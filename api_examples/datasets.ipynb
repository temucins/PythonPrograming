{
  "cells": [
    {
      "cell_type": "markdown",
      "metadata": {
        "id": "view-in-github",
        "colab_type": "text"
      },
      "source": [
        "<a href=\"https://colab.research.google.com/github/temucins/PythonPrograming/blob/main/api_examples/datasets.ipynb\" target=\"_parent\"><img src=\"https://colab.research.google.com/assets/colab-badge.svg\" alt=\"Open In Colab\"/></a>"
      ]
    },
    {
      "cell_type": "markdown",
      "id": "c52b5073",
      "metadata": {
        "id": "c52b5073"
      },
      "source": [
        "## Dataset API"
      ]
    },
    {
      "cell_type": "markdown",
      "id": "e97bf0ec",
      "metadata": {
        "id": "e97bf0ec"
      },
      "source": [
        "This API makes it easy to upload data to your cluster, such as for example a python program to run as a job. Also to download data from the cluster to your local environment."
      ]
    },
    {
      "cell_type": "markdown",
      "id": "be197a11",
      "metadata": {
        "id": "be197a11"
      },
      "source": [
        "> ⚠️ ONLY WORKS WHEN RUN INSIDE A HOPSWORKS CLUSTER"
      ]
    },
    {
      "cell_type": "markdown",
      "id": "491b7181",
      "metadata": {
        "id": "491b7181"
      },
      "source": [
        "## Scope"
      ]
    },
    {
      "cell_type": "markdown",
      "id": "6798df4a",
      "metadata": {
        "id": "6798df4a"
      },
      "source": [
        "This notebook showcases the following functionality:\n",
        "\n",
        "* Upload file\n",
        "* Download file\n",
        "* Check for file existence\n",
        "* Delete file"
      ]
    },
    {
      "cell_type": "code",
      "execution_count": 1,
      "id": "118b6c52",
      "metadata": {
        "id": "118b6c52",
        "outputId": "854310e9-b71e-476c-a32f-f2893fafdeee",
        "colab": {
          "base_uri": "https://localhost:8080/",
          "height": 315
        }
      },
      "outputs": [
        {
          "output_type": "error",
          "ename": "ModuleNotFoundError",
          "evalue": "No module named 'hopsworks'",
          "traceback": [
            "\u001b[0;31m---------------------------------------------------------------------------\u001b[0m",
            "\u001b[0;31mModuleNotFoundError\u001b[0m                       Traceback (most recent call last)",
            "\u001b[0;32m<ipython-input-1-1496673611>\u001b[0m in \u001b[0;36m<cell line: 0>\u001b[0;34m()\u001b[0m\n\u001b[0;32m----> 1\u001b[0;31m \u001b[0;32mimport\u001b[0m \u001b[0mhopsworks\u001b[0m\u001b[0;34m\u001b[0m\u001b[0;34m\u001b[0m\u001b[0m\n\u001b[0m",
            "\u001b[0;31mModuleNotFoundError\u001b[0m: No module named 'hopsworks'",
            "",
            "\u001b[0;31m---------------------------------------------------------------------------\u001b[0;32m\nNOTE: If your import is failing due to a missing package, you can\nmanually install dependencies using either !pip or !apt.\n\nTo view examples of installing some common dependencies, click the\n\"Open Examples\" button below.\n\u001b[0;31m---------------------------------------------------------------------------\u001b[0m\n"
          ],
          "errorDetails": {
            "actions": [
              {
                "action": "open_url",
                "actionText": "Open Examples",
                "url": "/notebooks/snippets/importing_libraries.ipynb"
              }
            ]
          }
        }
      ],
      "source": [
        "import hopsworks"
      ]
    },
    {
      "cell_type": "markdown",
      "id": "c191b06d",
      "metadata": {
        "id": "c191b06d"
      },
      "source": [
        "## Connect to the cluster"
      ]
    },
    {
      "cell_type": "code",
      "execution_count": null,
      "id": "6446746e",
      "metadata": {
        "id": "6446746e",
        "outputId": "7264c053-f76e-4a30-c1e6-8b220096111b"
      },
      "outputs": [
        {
          "name": "stdout",
          "output_type": "stream",
          "text": [
            "Connected. Call `.close()` to terminate connection gracefully.\n"
          ]
        }
      ],
      "source": [
        "# Connect to your cluster, to be used running inside Jupyter or jobs inside the cluster.\n",
        "project = hopsworks.login()"
      ]
    },
    {
      "cell_type": "code",
      "execution_count": null,
      "id": "3a91b511",
      "metadata": {
        "id": "3a91b511"
      },
      "outputs": [],
      "source": [
        "# Uncomment when connecting to the cluster from an external environment.\n",
        "# project = hopsworks.login(project='my_project', host='my_instance', port=443, api_key_value='apikey')"
      ]
    },
    {
      "cell_type": "markdown",
      "id": "1dc90f42",
      "metadata": {
        "id": "1dc90f42"
      },
      "source": [
        "## Get the API"
      ]
    },
    {
      "cell_type": "code",
      "execution_count": null,
      "id": "913c5584",
      "metadata": {
        "id": "913c5584"
      },
      "outputs": [],
      "source": [
        "dataset_api = project.get_dataset_api()"
      ]
    },
    {
      "cell_type": "markdown",
      "id": "b165b4ca",
      "metadata": {
        "id": "b165b4ca"
      },
      "source": [
        "## Upload file to hopsworks"
      ]
    },
    {
      "cell_type": "code",
      "execution_count": null,
      "id": "e2091bc0",
      "metadata": {
        "id": "e2091bc0",
        "outputId": "a6beed1a-8b17-4691-b7f4-04bdef16d172"
      },
      "outputs": [
        {
          "name": "stdout",
          "output_type": "stream",
          "text": [
            "--2022-04-12 12:57:52--  http://yann.lecun.com/exdb/mnist/train-images-idx3-ubyte.gz\n",
            "Resolving yann.lecun.com (yann.lecun.com)... 188.114.96.7, 188.114.97.7, 2a06:98c1:3120::7, ...\n",
            "Connecting to yann.lecun.com (yann.lecun.com)|188.114.96.7|:80... connected.\n",
            "HTTP request sent, awaiting response... 200 OK\n",
            "Length: 9912422 (9.5M) [application/x-gzip]\n",
            "Saving to: ‘train-images-idx3-ubyte.gz’\n",
            "\n",
            "train-images-idx3-u 100%[===================>]   9.45M  8.76MB/s    in 1.1s    \n",
            "\n",
            "2022-04-12 12:57:53 (8.76 MB/s) - ‘train-images-idx3-ubyte.gz’ saved [9912422/9912422]\n",
            "\n"
          ]
        }
      ],
      "source": [
        "# Download example file to work with\n",
        "!wget http://yann.lecun.com/exdb/mnist/train-images-idx3-ubyte.gz"
      ]
    },
    {
      "cell_type": "code",
      "execution_count": null,
      "id": "71182789",
      "metadata": {
        "id": "71182789",
        "outputId": "e297fd85-33ae-42bd-c59f-9cce42b82255",
        "colab": {
          "referenced_widgets": [
            "8253cf9110854b3587279a07bc648a0f"
          ]
        }
      },
      "outputs": [
        {
          "data": {
            "application/vnd.jupyter.widget-view+json": {
              "model_id": "8253cf9110854b3587279a07bc648a0f",
              "version_major": 2,
              "version_minor": 0
            },
            "text/plain": [
              "HBox(children=(FloatProgress(value=0.0, description='Uploading', max=9912422.0, style=ProgressStyle(descriptio…"
            ]
          },
          "metadata": {},
          "output_type": "display_data"
        },
        {
          "name": "stdout",
          "output_type": "stream",
          "text": [
            "\n",
            "File was uploaded on path: Resources/train-images-idx3-ubyte.gz\n"
          ]
        }
      ],
      "source": [
        "# Upload the file from the local environment to the cluster\n",
        "uploaded_file_path = dataset_api.upload(\"train-images-idx3-ubyte.gz\", \"Resources\", overwrite=True)\n",
        "print(\"File was uploaded on path: {}\".format(uploaded_file_path))"
      ]
    },
    {
      "cell_type": "code",
      "execution_count": null,
      "id": "1b31b898",
      "metadata": {
        "id": "1b31b898",
        "outputId": "337b5e49-671b-4b1b-d987-23d38faa0912"
      },
      "outputs": [
        {
          "data": {
            "text/plain": [
              "True"
            ]
          },
          "execution_count": 9,
          "metadata": {},
          "output_type": "execute_result"
        }
      ],
      "source": [
        "# Check file existence\n",
        "dataset_api.exists(uploaded_file_path)"
      ]
    },
    {
      "cell_type": "markdown",
      "id": "40937345",
      "metadata": {
        "id": "40937345"
      },
      "source": [
        "## Download file from hopsworks"
      ]
    },
    {
      "cell_type": "code",
      "execution_count": null,
      "id": "b0240edb",
      "metadata": {
        "id": "b0240edb",
        "outputId": "e6edf98c-85c0-435d-bc4d-07f3ed07a4d0",
        "colab": {
          "referenced_widgets": [
            "b0cb17e8917043c58e0889d7c2e775f8"
          ]
        }
      },
      "outputs": [
        {
          "data": {
            "application/vnd.jupyter.widget-view+json": {
              "model_id": "b0cb17e8917043c58e0889d7c2e775f8",
              "version_major": 2,
              "version_minor": 0
            },
            "text/plain": [
              "HBox(children=(FloatProgress(value=0.0, description='Downloading', max=9912422.0, style=ProgressStyle(descript…"
            ]
          },
          "metadata": {},
          "output_type": "display_data"
        },
        {
          "name": "stdout",
          "output_type": "stream",
          "text": [
            "\n"
          ]
        },
        {
          "data": {
            "text/plain": [
              "'/srv/hops/staging/private_dirs/ca53d36092d3792645bc527eb455d405542efd398f2f62c130c1310416c1aa1e/train-images-idx3-ubyte.gz'"
            ]
          },
          "execution_count": 10,
          "metadata": {},
          "output_type": "execute_result"
        }
      ],
      "source": [
        "# Download the file from the cluster to the local environment\n",
        "dataset_api.download(uploaded_file_path, overwrite=True)"
      ]
    },
    {
      "cell_type": "code",
      "execution_count": null,
      "id": "5bbe882f",
      "metadata": {
        "id": "5bbe882f"
      },
      "outputs": [],
      "source": [
        "# Remove the uploaded file or folder\n",
        "dataset_api.remove(uploaded_file_path)"
      ]
    },
    {
      "cell_type": "code",
      "execution_count": null,
      "id": "15fc523d",
      "metadata": {
        "id": "15fc523d",
        "outputId": "92b7c29f-33bc-4cda-ae41-f6e126571ebc"
      },
      "outputs": [
        {
          "data": {
            "text/plain": [
              "False"
            ]
          },
          "execution_count": 12,
          "metadata": {},
          "output_type": "execute_result"
        }
      ],
      "source": [
        "# File is now removed\n",
        "dataset_api.exists(uploaded_file_path)"
      ]
    }
  ],
  "metadata": {
    "kernelspec": {
      "display_name": "Python",
      "language": "python",
      "name": "python3"
    },
    "language_info": {
      "codemirror_mode": {
        "name": "ipython",
        "version": 3
      },
      "file_extension": ".py",
      "mimetype": "text/x-python",
      "name": "python",
      "nbconvert_exporter": "python",
      "pygments_lexer": "ipython3",
      "version": "3.8.11"
    },
    "colab": {
      "provenance": [],
      "include_colab_link": true
    }
  },
  "nbformat": 4,
  "nbformat_minor": 5
}